{
  "nbformat": 4,
  "nbformat_minor": 0,
  "metadata": {
    "colab": {
      "provenance": [],
      "authorship_tag": "ABX9TyNUxHCXvv5QwTrqkF47tXVh",
      "include_colab_link": true
    },
    "kernelspec": {
      "name": "python3",
      "display_name": "Python 3"
    },
    "language_info": {
      "name": "python"
    }
  },
  "cells": [
    {
      "cell_type": "markdown",
      "metadata": {
        "id": "view-in-github",
        "colab_type": "text"
      },
      "source": [
        "<a href=\"https://colab.research.google.com/github/Chrismboliveira/Chrismboliveira/blob/main/Tarefa_Mod9.ipynb\" target=\"_parent\"><img src=\"https://colab.research.google.com/assets/colab-badge.svg\" alt=\"Open In Colab\"/></a>"
      ]
    },
    {
      "cell_type": "code",
      "execution_count": 2,
      "metadata": {
        "colab": {
          "base_uri": "https://localhost:8080/"
        },
        "id": "R28AmXBVEE-z",
        "outputId": "eb87d971-159c-47b8-9f5d-8f69f6c51f1e"
      },
      "outputs": [
        {
          "output_type": "execute_result",
          "data": {
            "text/plain": [
              "time.struct_time(tm_year=1970, tm_mon=1, tm_mday=1, tm_hour=0, tm_min=0, tm_sec=0, tm_wday=3, tm_yday=1, tm_isdst=0)"
            ]
          },
          "metadata": {},
          "execution_count": 2
        }
      ],
      "source": [
        "#Exercicio 01 - Escreva scripts para mostrar os diversos formatos de tempo:\n",
        "#Letra a: impressão da época padrão\n",
        "\n",
        "time.gmtime(0)\n"
      ]
    },
    {
      "cell_type": "code",
      "source": [
        "#Letra b: Segundos que se passaram desde a época\n",
        "\n",
        "import time\n",
        "seconds = time.time()\n",
        "print(\"Segundos desde a época:\", seconds)"
      ],
      "metadata": {
        "colab": {
          "base_uri": "https://localhost:8080/"
        },
        "id": "-_z3dg1GFGSS",
        "outputId": "ce620222-32a3-4b2f-8929-6e383a9936a2"
      },
      "execution_count": 4,
      "outputs": [
        {
          "output_type": "stream",
          "name": "stdout",
          "text": [
            "Segundos desde a época: 1711462119.3742201\n"
          ]
        }
      ]
    },
    {
      "cell_type": "code",
      "source": [
        "#Letra c: Imprime dados do tempo no mento atual\n",
        "\n",
        "local_time = time.ctime(seconds)\n",
        "print(\"Tempo local:\", local_time)\n",
        "\n"
      ],
      "metadata": {
        "colab": {
          "base_uri": "https://localhost:8080/"
        },
        "id": "2_fgccbXFT-N",
        "outputId": "d966d069-a238-48cc-f033-276887bd0266"
      },
      "execution_count": 5,
      "outputs": [
        {
          "output_type": "stream",
          "name": "stdout",
          "text": [
            "Tempo local: Tue Mar 26 14:08:39 2024\n"
          ]
        }
      ]
    },
    {
      "cell_type": "code",
      "source": [
        "# O tempo no momento\n",
        "\n",
        "print(\"tempo local:\", time.asctime())"
      ],
      "metadata": {
        "colab": {
          "base_uri": "https://localhost:8080/"
        },
        "id": "h44NvrueGuaw",
        "outputId": "438b0c80-8a8c-4740-c74a-6847f3784767"
      },
      "execution_count": 6,
      "outputs": [
        {
          "output_type": "stream",
          "name": "stdout",
          "text": [
            "tempo local: Tue Mar 26 14:14:10 2024\n"
          ]
        }
      ]
    },
    {
      "cell_type": "code",
      "source": [
        "#Letra d: Cria um objeto time.localtime() e imprime o valor das horas, minutos e segundos\n",
        "\n",
        "print(time.localtime())"
      ],
      "metadata": {
        "colab": {
          "base_uri": "https://localhost:8080/"
        },
        "id": "FZs9bCMxHSZq",
        "outputId": "ea492bbf-873a-4df3-d748-eddaa6808a08"
      },
      "execution_count": 12,
      "outputs": [
        {
          "output_type": "stream",
          "name": "stdout",
          "text": [
            "time.struct_time(tm_year=2024, tm_mon=3, tm_mday=26, tm_hour=15, tm_min=49, tm_sec=46, tm_wday=1, tm_yday=86, tm_isdst=0)\n"
          ]
        }
      ]
    },
    {
      "cell_type": "code",
      "source": [
        "a = time.localtime()\n",
        "#a[0]\n",
        "a[3:6]"
      ],
      "metadata": {
        "colab": {
          "base_uri": "https://localhost:8080/"
        },
        "id": "5N7sBcL7Hqbz",
        "outputId": "5c6740cb-a101-4c62-c5e5-09cbda97c62e"
      },
      "execution_count": 15,
      "outputs": [
        {
          "output_type": "execute_result",
          "data": {
            "text/plain": [
              "(15, 50, 48)"
            ]
          },
          "metadata": {},
          "execution_count": 15
        }
      ]
    },
    {
      "cell_type": "code",
      "source": [
        "import datetime"
      ],
      "metadata": {
        "id": "YsdFQYlzidtL"
      },
      "execution_count": 23,
      "outputs": []
    },
    {
      "cell_type": "code",
      "source": [
        "#Letra e: imprime se no momento atual estamos em horário de verão ou não\n",
        "\n",
        "\n",
        "from datetime import timedelta\n",
        "import pytz\n",
        "\n",
        "def esta_em_horario_de_verao():\n",
        "    # Obter o fuso horário local\n",
        "    fuso_horario_local = pytz.timezone('Europe/Lisbon')  # Substitua pelo seu fuso horário local\n",
        "\n",
        "    # Obter a data e hora atual\n",
        "    data_hora_atual = datetime.now(fuso_horario_local)\n",
        "\n",
        "    # Verificar se o horário atual está no horário de verão\n",
        "    return data_hora_atual.dst() != timedelta(0)\n",
        "\n",
        "# Exemplo de uso\n",
        "if esta_em_horario_de_verao():\n",
        "    print(\"Estamos no horário de verão!\")\n",
        "else:\n",
        "    print(\"Não estamos no horário de verão.\")\n"
      ],
      "metadata": {
        "colab": {
          "base_uri": "https://localhost:8080/"
        },
        "id": "_o_xQOArdsuB",
        "outputId": "72f634f4-29e1-4134-bcb3-cc012acd94bd"
      },
      "execution_count": 25,
      "outputs": [
        {
          "output_type": "stream",
          "name": "stdout",
          "text": [
            "Não estamos no horário de verão.\n"
          ]
        }
      ]
    },
    {
      "cell_type": "code",
      "source": [
        "#Exercício 02 - Escreva um programa para imprimir uma string \"Olá mundo\"! cinco vezes, em que cada uma das impressões demore três segundos entre uma e outra\n",
        "\n",
        "import time\n",
        "\n",
        "def print_ola_mundo():\n",
        "    for _ in range(5):\n",
        "        print(\"Olá, mundo!\")\n",
        "        time.sleep(3)\n",
        "\n",
        "# Chamar a função para imprimir \"Olá, mundo!\" cinco vezes com intervalo de 3 segundos\n",
        "print_ola_mundo()\n"
      ],
      "metadata": {
        "colab": {
          "base_uri": "https://localhost:8080/"
        },
        "id": "LUCHzEj4iqIz",
        "outputId": "5b66e5ff-41f9-4da6-c8d9-b8ce61a2b0fd"
      },
      "execution_count": 27,
      "outputs": [
        {
          "output_type": "stream",
          "name": "stdout",
          "text": [
            "Olá, mundo!\n",
            "Olá, mundo!\n",
            "Olá, mundo!\n",
            "Olá, mundo!\n",
            "Olá, mundo!\n"
          ]
        }
      ]
    },
    {
      "cell_type": "code",
      "source": [
        "#Exercício 03\n",
        "\n",
        "from time import perf_counter\n",
        "\n",
        "\n",
        "def calcular_tempo_de_processamento():\n",
        "    # Registrar o tempo de início\n",
        "    inicio = time.perf_counter()\n",
        "\n",
        "    for _ in range(5):\n",
        "        pass\n",
        "\n",
        "    # Registrar o tempo de término\n",
        "    fim = time.perf_counter()\n",
        "\n",
        "    # Calcular o tempo de processamento\n",
        "    tempo_total = fim - inicio\n",
        "\n",
        "    return tempo_total\n",
        "\n",
        "# Chamar a função e obter o tempo de processamento\n",
        "tempo_processamento = calcular_tempo_de_processamento()\n",
        "print(f\"Tempo de processamento: {tempo_processamento:.6f} segundos\")\n"
      ],
      "metadata": {
        "colab": {
          "base_uri": "https://localhost:8080/"
        },
        "id": "zCRftxlblqxL",
        "outputId": "a89cd5e1-5cea-4688-83f4-bf901ce36189"
      },
      "execution_count": 30,
      "outputs": [
        {
          "output_type": "stream",
          "name": "stdout",
          "text": [
            "Tempo de processamento: 0.000003 segundos\n"
          ]
        }
      ]
    },
    {
      "cell_type": "code",
      "source": [
        "#Exercício 04\n",
        "\n",
        "from datetime import datetime, timedelta\n",
        "\n",
        "def obter_lista_de_datas(data_inicial, data_final):\n",
        "    # Converter as strings de data para objetos datetime\n",
        "    data_inicio_obj = datetime.strptime(data_inicial, \"%d/%m/%y\")\n",
        "    data_fim_obj = datetime.strptime(data_final, \"%d/%m/%y\")\n",
        "\n",
        "    # Criar uma lista para armazenar as datas\n",
        "    lista_de_datas = []\n",
        "\n",
        "    # Iterar entre as datas com intervalo de 1 dia\n",
        "    data_atual = data_inicio_obj\n",
        "    while data_atual <= data_fim_obj:\n",
        "        lista_de_datas.append(data_atual.strftime(\"%d/%m/%y\"))\n",
        "        data_atual += timedelta(days=1)\n",
        "\n",
        "    return lista_de_datas\n",
        "\n",
        "# Resultado do exercício:\n",
        "\n",
        "data_inicial = \"16/10/87\"\n",
        "data_final = \"25/10/87\"\n",
        "datas_entre_intervalo = obter_lista_de_datas(data_inicial, data_final)\n",
        "for data in datas_entre_intervalo:\n",
        "    print(data)\n"
      ],
      "metadata": {
        "colab": {
          "base_uri": "https://localhost:8080/"
        },
        "id": "DX1dfHdhn_qd",
        "outputId": "db250948-b7b9-4d8c-aa50-6ddcc144aa10"
      },
      "execution_count": 31,
      "outputs": [
        {
          "output_type": "stream",
          "name": "stdout",
          "text": [
            "16/10/87\n",
            "17/10/87\n",
            "18/10/87\n",
            "19/10/87\n",
            "20/10/87\n",
            "21/10/87\n",
            "22/10/87\n",
            "23/10/87\n",
            "24/10/87\n",
            "25/10/87\n"
          ]
        }
      ]
    },
    {
      "cell_type": "code",
      "source": [
        "#Exercício 05\n",
        "#Letra a\n",
        "\n",
        "# Importar o módulo datetime\n",
        "import datetime\n",
        "\n",
        "# Obter a data e hora atual\n",
        "data_hora_atual = datetime.datetime.now()\n",
        "\n",
        "# Exibir a data e hora em diferentes formatos\n",
        "print(\"Data e hora atual:\", data_hora_atual)\n",
        "print(\"Data atual:\", data_hora_atual.strftime(\"%d/%m/%Y\"))\n",
        "print(\"Hora atual:\", data_hora_atual.strftime(\"%H:%M:%S\"))\n",
        "print(\"Dia da semana:\", data_hora_atual.strftime(\"%A\"))\n"
      ],
      "metadata": {
        "colab": {
          "base_uri": "https://localhost:8080/"
        },
        "id": "ruL8lhSuoeW2",
        "outputId": "4aa0a6f9-0f51-4987-a68c-7ce3fb2b92b2"
      },
      "execution_count": 33,
      "outputs": [
        {
          "output_type": "stream",
          "name": "stdout",
          "text": [
            "Data e hora atual: 2024-03-26 16:44:31.077649\n",
            "Data atual: 26/03/2024\n",
            "Hora atual: 16:44:31\n",
            "Dia da semana: Tuesday\n"
          ]
        }
      ]
    },
    {
      "cell_type": "code",
      "source": [
        "#Letra b\n",
        "\n",
        "# Importar o módulo datetime\n",
        "from datetime import datetime\n",
        "\n",
        "# Obter a data e hora atual\n",
        "now = datetime.now()\n",
        "\n",
        "# Formatar a data para obter o ano atual\n",
        "ano_atual = now.strftime(\"%Y\")\n",
        "\n",
        "# Exibir o ano atual\n",
        "print(f\"Ano atual (formato YYYY): {ano_atual}\")\n"
      ],
      "metadata": {
        "colab": {
          "base_uri": "https://localhost:8080/"
        },
        "id": "WqxYNoAnqM4b",
        "outputId": "a3d5fd9c-ff40-42cc-a80d-fc8a7c3fff73"
      },
      "execution_count": 34,
      "outputs": [
        {
          "output_type": "stream",
          "name": "stdout",
          "text": [
            "Ano atual (formato YYYY): 2024\n"
          ]
        }
      ]
    },
    {
      "cell_type": "code",
      "source": [
        "# Obter o ano atual diretamente do atributo 'year'\n",
        "ano_atual = now.year\n",
        "\n",
        "# Exibir o ano atual\n",
        "print(f\"Ano atual (atributo year): {ano_atual}\")\n"
      ],
      "metadata": {
        "colab": {
          "base_uri": "https://localhost:8080/"
        },
        "id": "hGRv2rAVqavU",
        "outputId": "b74aa82f-9080-434c-8072-38c9e3ec119a"
      },
      "execution_count": 35,
      "outputs": [
        {
          "output_type": "stream",
          "name": "stdout",
          "text": [
            "Ano atual (atributo year): 2024\n"
          ]
        }
      ]
    },
    {
      "cell_type": "code",
      "source": [
        "#Letra c\n",
        "\n",
        "# Importar o módulo datetime\n",
        "from datetime import datetime\n",
        "\n",
        "# Obter a data e hora atual\n",
        "agora = datetime.now()\n",
        "\n",
        "# Formatar o mês atual\n",
        "mes_atual = agora.strftime(\"%B\")\n",
        "\n",
        "# Exibir o mês atual\n",
        "print(f\"Mês atual (formato completo): {mes_atual}\")\n"
      ],
      "metadata": {
        "colab": {
          "base_uri": "https://localhost:8080/"
        },
        "id": "iGeDheZNqedw",
        "outputId": "5884bf66-3280-4c9a-c710-52214bb94cb1"
      },
      "execution_count": 36,
      "outputs": [
        {
          "output_type": "stream",
          "name": "stdout",
          "text": [
            "Mês atual (formato completo): March\n"
          ]
        }
      ]
    },
    {
      "cell_type": "code",
      "source": [
        "# Importar o módulo date\n",
        "from datetime import date\n",
        "\n",
        "# Obter a data atual\n",
        "hoje = date.today()\n",
        "\n",
        "# Obter o mês atual a partir da data\n",
        "mes_atual = hoje.strftime(\"%B\")\n",
        "\n",
        "# Exibir o mês atual\n",
        "print(f\"Mês atual (função date()): {mes_atual}\")\n"
      ],
      "metadata": {
        "colab": {
          "base_uri": "https://localhost:8080/"
        },
        "id": "JAGq47WlqxNW",
        "outputId": "89a55407-4a01-4550-b521-e4d81e214040"
      },
      "execution_count": 37,
      "outputs": [
        {
          "output_type": "stream",
          "name": "stdout",
          "text": [
            "Mês atual (função date()): March\n"
          ]
        }
      ]
    },
    {
      "cell_type": "code",
      "source": [
        "#Letra d\n",
        "import datetime\n",
        "# Obter a data atual\n",
        "data_atual = datetime.date.today()\n",
        "\n",
        "# Obter o número da semana atual\n",
        "numero_semana = data_atual.strftime(\"%U\")\n",
        "\n",
        "# Exibir o número da semana atual\n",
        "print(f\"O número da semana atual no ano é: {numero_semana}\")\n",
        "\n",
        "\n"
      ],
      "metadata": {
        "colab": {
          "base_uri": "https://localhost:8080/"
        },
        "id": "5zIfHe9bq0rX",
        "outputId": "76444327-3fe3-4a8e-f765-054a771fbc63"
      },
      "execution_count": 40,
      "outputs": [
        {
          "output_type": "stream",
          "name": "stdout",
          "text": [
            "O número da semana atual no ano é: 12\n"
          ]
        }
      ]
    },
    {
      "cell_type": "code",
      "source": [
        "#Letra e\n",
        "\n",
        "import datetime\n",
        "\n",
        "# Obter o dia da semana atual (onde Segunda é 0 e Domingo é 6)\n",
        "dia_semana = datetime.date.today().weekday()\n",
        "\n",
        "# Nomes dos dias da semana\n",
        "nomes_dias = (\"Segunda-feira\", \"Terça-feira\", \"Quarta-feira\", \"Quinta-feira\", \"Sexta-feira\", \"Sábado\", \"Domingo\")\n",
        "\n",
        "# Verificar se é fim de semana ou dia útil\n",
        "if dia_semana < 5:\n",
        "    print(f\"Tenha uma boa {nomes_dias[dia_semana]} =D\")\n",
        "else:\n",
        "    print(f\"Tenha um bom {nomes_dias[dia_semana]} =D\")\n",
        "\n",
        "\n"
      ],
      "metadata": {
        "colab": {
          "base_uri": "https://localhost:8080/"
        },
        "id": "crSKJlHMrZG0",
        "outputId": "46b98232-1249-4ef3-d195-0c662d0fa1da"
      },
      "execution_count": 41,
      "outputs": [
        {
          "output_type": "stream",
          "name": "stdout",
          "text": [
            "Tenha uma boa Terça-feira =D\n"
          ]
        }
      ]
    },
    {
      "cell_type": "code",
      "source": [
        "#Letra f\n",
        "\n",
        "import datetime\n",
        "\n",
        "# Obter a data atual\n",
        "data_atual = datetime.date.today()\n",
        "\n",
        "# Obter o dia do ano (onde 1º de janeiro é o dia número 1)\n",
        "dia_do_ano = data_atual.timetuple().tm_yday\n",
        "\n",
        "# Exibir o dia do ano\n",
        "print(f\"Hoje é o {dia_do_ano}º dia do ano.\")\n"
      ],
      "metadata": {
        "colab": {
          "base_uri": "https://localhost:8080/"
        },
        "id": "3d8aBJDhr4ee",
        "outputId": "c875a010-a84c-4b5e-cf92-630208d4d821"
      },
      "execution_count": 42,
      "outputs": [
        {
          "output_type": "stream",
          "name": "stdout",
          "text": [
            "Hoje é o 86º dia do ano.\n"
          ]
        }
      ]
    },
    {
      "cell_type": "code",
      "source": [
        "#Letra g\n",
        "\n",
        "import datetime\n",
        "\n",
        "# Obter a data atual\n",
        "data_atual = datetime.date.today()\n",
        "\n",
        "# Formatar o dia do mês\n",
        "dia_do_mes = data_atual.strftime(\"%d\")\n",
        "\n",
        "# Exibir o dia do mês\n",
        "print(f\"Hoje é o dia {dia_do_mes} do mês.\")\n"
      ],
      "metadata": {
        "colab": {
          "base_uri": "https://localhost:8080/"
        },
        "id": "xmDIyLUgsKqy",
        "outputId": "ac7e0331-c555-4526-f538-728a6f39d2e5"
      },
      "execution_count": 43,
      "outputs": [
        {
          "output_type": "stream",
          "name": "stdout",
          "text": [
            "Hoje é o dia 26 do mês.\n"
          ]
        }
      ]
    },
    {
      "cell_type": "code",
      "source": [
        "#Letra h\n",
        "\n",
        "import datetime\n",
        "\n",
        "# Obter o dia da semana atual (onde Segunda é 0 e Domingo é 6)\n",
        "dia_semana = datetime.date.today().weekday()\n",
        "\n",
        "# Nomes dos dias da semana\n",
        "nomes_dias = (\"Segunda-feira\", \"Terça-feira\", \"Quarta-feira\", \"Quinta-feira\", \"Sexta-feira\", \"Sábado\", \"Domingo\")\n",
        "\n",
        "# Verificar se é fim de semana ou dia útil\n",
        "if dia_semana < 5:\n",
        "    print(f\"Tenha uma boa {nomes_dias[dia_semana]} =D\")\n",
        "else:\n",
        "    print(f\"Tenha um bom {nomes_dias[dia_semana]} =D\")\n"
      ],
      "metadata": {
        "colab": {
          "base_uri": "https://localhost:8080/"
        },
        "id": "98IJnk8EsmLs",
        "outputId": "e652caa7-3089-4f1e-d0c4-8d0ff3f39f1f"
      },
      "execution_count": 44,
      "outputs": [
        {
          "output_type": "stream",
          "name": "stdout",
          "text": [
            "Tenha uma boa Terça-feira =D\n"
          ]
        }
      ]
    },
    {
      "cell_type": "code",
      "source": [
        "#Exercício 6\n",
        "\n",
        "#converter uma string em data e hora, fornecendo um exemplo de string e o resultado esperado da conversão.\n",
        "\n",
        "def converter_string_para_data_hora(string_data_hora):\n",
        "    try:\n",
        "        # Formato da string de entrada: \"DD/MM/YYYY HH:MM:SS\"\n",
        "        formato_entrada = \"%d/%m/%Y %H:%M:%S\"\n",
        "        data_hora_objeto = datetime.datetime.strptime(string_data_hora, formato_entrada)\n",
        "        return data_hora_objeto\n",
        "    except ValueError:\n",
        "        return \"Formato inválido. Use o formato DD/MM/YYYY HH:MM:SS.\"\n",
        "\n",
        "# Exercício:\n",
        "string_exemplo = \"26/03/2024 11:40:20\"\n",
        "resultado = converter_string_para_data_hora(string_exemplo)\n",
        "print(f\"A string '{string_exemplo}' foi convertida para: {resultado}\")\n"
      ],
      "metadata": {
        "colab": {
          "base_uri": "https://localhost:8080/"
        },
        "id": "arzdkYvUtEzU",
        "outputId": "0d01f07b-95dd-455d-9acd-1e9a7ffc7be7"
      },
      "execution_count": 45,
      "outputs": [
        {
          "output_type": "stream",
          "name": "stdout",
          "text": [
            "A string '26/03/2024 11:40:20' foi convertida para: 2024-03-26 11:40:20\n"
          ]
        }
      ]
    },
    {
      "cell_type": "code",
      "source": [
        "#Exercício 7\n",
        "\n",
        "from datetime import datetime, timedelta\n",
        "\n",
        "# Obter data atual\n",
        "current_date = datetime.now()\n",
        "\n",
        "# Subtrair 8 dias\n",
        "new_date = current_date - timedelta(days=8)\n",
        "\n",
        "# Resultado\n",
        "print(f\"A data atual é: {current_date.strftime('%d/%m/%Y')}\")\n",
        "print(f\"A data após subtrair 8 dias é: {new_date.strftime('%d/%m/%Y')}\")\n"
      ],
      "metadata": {
        "colab": {
          "base_uri": "https://localhost:8080/"
        },
        "id": "nLWG3fuTtPTQ",
        "outputId": "25553079-5f6a-4c06-de9d-8fc1e2a2c234"
      },
      "execution_count": 46,
      "outputs": [
        {
          "output_type": "stream",
          "name": "stdout",
          "text": [
            "A data atual é: 26/03/2024\n",
            "A data após subtrair 8 dias é: 18/03/2024\n"
          ]
        }
      ]
    },
    {
      "cell_type": "code",
      "source": [
        "#Exercício 8\n",
        "\n",
        "from datetime import datetime\n",
        "\n",
        "def calcular_diferenca_entre_datetimes(datetime1, datetime2):\n",
        "    # Calcula a diferença entre os datetimes\n",
        "    diferenca = abs((datetime2 - datetime1).days)\n",
        "    return diferenca\n",
        "\n",
        "# Datas\n",
        "data1 = datetime(2024, 3, 15)\n",
        "data2 = datetime(2024, 3, 25)\n",
        "\n",
        "diferenca = calcular_diferenca_entre_datetimes(data1, data2)\n",
        "if diferenca == 10:\n",
        "    print(\"A diferença entre os datetimes é igual a 10 dias.\")\n",
        "else:\n",
        "    print(\"A diferença entre os datetimes não é igual a 10 dias.\")\n"
      ],
      "metadata": {
        "colab": {
          "base_uri": "https://localhost:8080/"
        },
        "id": "btqh2fhjt-e5",
        "outputId": "a3c11bbf-dc04-4561-83df-cf0b6c003a37"
      },
      "execution_count": 47,
      "outputs": [
        {
          "output_type": "stream",
          "name": "stdout",
          "text": [
            "A diferença entre os datetimes é igual a 10 dias.\n"
          ]
        }
      ]
    },
    {
      "cell_type": "code",
      "source": [
        "#Exercício 9\n",
        "\n",
        "from datetime import datetime, timedelta\n",
        "\n",
        "# Obtém a data de anteontem\n",
        "anteontem = datetime.now() - timedelta(days=2)\n",
        "\n",
        "# Obtém a data de depois de amanhã\n",
        "depois_de_amanha = datetime.now() + timedelta(days=2)\n",
        "\n",
        "# Calcula a diferença em dias\n",
        "diferenca = abs((depois_de_amanha - anteontem).days)\n",
        "\n",
        "print(f\"A diferença em dias entre anteontem e depois de amanhã é {diferenca}.\")\n",
        "\n"
      ],
      "metadata": {
        "colab": {
          "base_uri": "https://localhost:8080/"
        },
        "id": "tG9PnP58u0hW",
        "outputId": "e3c3a35e-9baf-492c-e870-2f589f2b3079"
      },
      "execution_count": 48,
      "outputs": [
        {
          "output_type": "stream",
          "name": "stdout",
          "text": [
            "A diferença em dias entre anteontem e depois de amanhã é 4.\n"
          ]
        }
      ]
    }
  ]
}